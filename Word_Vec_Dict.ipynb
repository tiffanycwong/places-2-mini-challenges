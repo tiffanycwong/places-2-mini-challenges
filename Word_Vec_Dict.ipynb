{
 "cells": [
  {
   "cell_type": "code",
   "execution_count": 6,
   "metadata": {
    "collapsed": false
   },
   "outputs": [],
   "source": [
    "import gensim\n",
    "import json\n",
    "\n",
    "model = gensim.models.Word2Vec.load_word2vec_format('./GoogleNews-vectors-negative300.bin', binary=True) "
   ]
  },
  {
   "cell_type": "code",
   "execution_count": 29,
   "metadata": {
    "collapsed": false
   },
   "outputs": [],
   "source": [
    "def word_vec_dict(word_list):\n",
    "    word_dict = {}\n",
    "    \n",
    "    for word in word_list: \n",
    "        if \"_\" in word: \n",
    "            word1, word2 = word.split(\"_\")\n",
    "            word_dict[word] =  ((model[word1] + model[word2]) / 2.0).tolist()\n",
    "        else:\n",
    "            word_dict[word] = model[word].tolist()\n",
    "    \n",
    "    with open('word_dict.txt', 'w') as outfile:\n",
    "        json.dump(word_dict, outfile, sort_keys=True, indent=4)\n",
    "        \n",
    "    "
   ]
  },
  {
   "cell_type": "code",
   "execution_count": 28,
   "metadata": {
    "collapsed": false
   },
   "outputs": [],
   "source": [
    "word_vec_dict(['arcade_machine', 'armchair', 'awning', 'bag', 'balcony', 'ball', 'barrel', 'basket', 'beam', 'bed', 'bench', 'billiard_table', 'board', 'boat', 'book', 'bookcase', 'books', 'bottle', 'bottles', 'bowl', 'box', 'boxes', 'bucket', 'building', 'buildings', 'bulletin_board', 'bus', 'bushes', 'cabinet', 'cabinets', 'can', 'candle', 'car', 'cars', 'ceiling', 'ceiling_fan', 'ceiling_lamp', 'chair', 'chandelier', 'clock', 'clothes', 'coffee_table', 'column', 'counter', 'countertop', 'cup', 'curtain', 'cushion', 'deck_chair', 'desk', 'desk_lamp', 'dishwasher', 'door', 'door_frame', 'double_door', 'drawer', 'extractor_hood', 'faucet', 'fence', 'field', 'flag', 'floor', 'floor_lamp', 'flowers', 'fluorescent_tube', 'gate', 'glass', 'grass', 'grille', 'ground', 'handrail', 'hat', 'hedge', 'hill', 'house', 'jar', 'keyboard', 'land', 'magazine', 'magazines', 'microwave', 'mirror', 'mountain', 'mug', 'napkin', 'night_table', 'ottoman', 'outlet', 'oven', 'painting', 'palm_tree', 'pane', 'paper', 'path', 'people', 'person', 'person_sitting', 'person_standing', 'person_walking', 'picture', 'pillow', 'pipe', 'plant', 'plant_pot', 'plants', 'plate', 'pole', 'poster', 'pot', 'purse', 'railing', 'refrigerator', 'river_water', 'road', 'rock', 'rocks', 'rocky_mountain', 'rug', 'sand_beach', 'sconce', 'screen', 'sculpture', 'sea_water', 'seat', 'seats', 'shelf', 'shelves', 'shoe', 'shoes', 'shop_window', 'showcase', 'shutter', 'side_table', 'sidewalk', 'sign', 'sink', 'sky', 'skyscraper', 'sneaker', 'snowy_mountain', 'sofa', 'spotlight', 'staircase', 'stand', 'statue', 'step', 'steps', 'stone', 'stones', 'stool', 'stove', 'streetlight', 'switch', 'swivel_chair', 'table', 'telephone', 'television', 'text', 'toilet', 'towel', 'toy', 'tray', 'tree', 'tree_trunk', 'trees', 'truck', 'umbrella', 'van', 'vase', 'wall', 'wardrobe', 'washbasin', 'water', 'window', 'worktop'])"
   ]
  },
  {
   "cell_type": "code",
   "execution_count": null,
   "metadata": {
    "collapsed": true
   },
   "outputs": [],
   "source": []
  }
 ],
 "metadata": {
  "kernelspec": {
   "display_name": "Python 2",
   "language": "python",
   "name": "python2"
  },
  "language_info": {
   "codemirror_mode": {
    "name": "ipython",
    "version": 2
   },
   "file_extension": ".py",
   "mimetype": "text/x-python",
   "name": "python",
   "nbconvert_exporter": "python",
   "pygments_lexer": "ipython2",
   "version": "2.7.11"
  }
 },
 "nbformat": 4,
 "nbformat_minor": 1
}
