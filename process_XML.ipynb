{
 "cells": [
  {
   "cell_type": "code",
   "execution_count": 54,
   "metadata": {
    "collapsed": false
   },
   "outputs": [],
   "source": [
    "import xml.etree.ElementTree as ET \n",
    "import sys"
   ]
  },
  {
   "cell_type": "code",
   "execution_count": 82,
   "metadata": {
    "collapsed": false
   },
   "outputs": [],
   "source": [
    "def extract_XML_obj(filepath):\n",
    "    objects = []\n",
    "#     try:\n",
    "    file_text = open(filepath).read()\n",
    "    file_text = \"<root>\"+file_text+\"</root>\"\n",
    "    children = ET.fromstring(file_text)\n",
    "    filename = children[0].text\n",
    "    folder =  children[1].text\n",
    "    scene = children[2].text\n",
    "\n",
    "    # for all objects in scene \n",
    "    for objecto in children[3:]:\n",
    "        class_num = objecto.find('class').text\n",
    "        min_x = sys.maxint\n",
    "        min_y = sys.maxint\n",
    "        max_x = -1\n",
    "        max_y = -1\n",
    "\n",
    "        # for all points outlining object \n",
    "        for point in objecto.find('polygon').findall('pt'):\n",
    "            point_y = int(point.find('y').text)\n",
    "            point_x = int(point.find('x').text)\n",
    "            min_x = min(point_x, min_x)\n",
    "            max_x = max(point_x, max_x)\n",
    "            min_y = min(point_y, min_y)\n",
    "            max_y = max(point_y, max_y)\n",
    "\n",
    "        objects.append((class_num, min_x, max_x, min_y, max_y))\n",
    "\n",
    "#     except:\n",
    "#         print \"you fucked up\"\n",
    "    return filename, folder, scene, objects"
   ]
  }
 ],
 "metadata": {
  "kernelspec": {
   "display_name": "Python 2",
   "language": "python",
   "name": "python2"
  },
  "language_info": {
   "codemirror_mode": {
    "name": "ipython",
    "version": 2
   },
   "file_extension": ".py",
   "mimetype": "text/x-python",
   "name": "python",
   "nbconvert_exporter": "python",
   "pygments_lexer": "ipython2",
   "version": "2.7.11"
  }
 },
 "nbformat": 4,
 "nbformat_minor": 1
}
